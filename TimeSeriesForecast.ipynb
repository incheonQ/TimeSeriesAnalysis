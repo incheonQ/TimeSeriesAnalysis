{
 "cells": [
  {
   "cell_type": "code",
   "execution_count": 225,
   "id": "bc919c06-6935-420c-bf12-b3ff5d3622fc",
   "metadata": {},
   "outputs": [],
   "source": [
    "needs = [8000, 13000,23000,34000,10000,18000,23000,38000,12000,13000,32000,41000]"
   ]
  },
  {
   "cell_type": "code",
   "execution_count": 227,
   "id": "6e561400-9de9-4f33-86fb-ea008ad51a02",
   "metadata": {},
   "outputs": [],
   "source": [
    "from collections.abc import Sequence"
   ]
  },
  {
   "cell_type": "markdown",
   "id": "08a15f9e-17d9-4104-b1b1-e26b86cda921",
   "metadata": {},
   "source": [
    "# Moving Average Methods"
   ]
  },
  {
   "cell_type": "code",
   "execution_count": 59,
   "id": "37eecaea-04b7-4ef4-acc0-6eec36d78935",
   "metadata": {},
   "outputs": [],
   "source": [
    "def moving_average_methods(\n",
    "    data: Sequence[float], window_size: int\n",
    ")->list[float | None]:\n",
    "    \n",
    "    if window_size < 1:\n",
    "        raise ValueError\n",
    "        \n",
    "    if window_size > len(data):\n",
    "        raise ValueError\n",
    "\n",
    "    levels: list[float | None] = []\n",
    "    \n",
    "    for i in range(len(data)):\n",
    "        if i < window_size - 1:\n",
    "            levels.append(None)\n",
    "        else:\n",
    "            window = data[i-window_size+1 : i+1]\n",
    "            level_value = sum(window)/window_size\n",
    "            levels.append(level_value)\n",
    "    return levels"
   ]
  },
  {
   "cell_type": "code",
   "execution_count": 61,
   "id": "7db03335-f1f3-4a09-89a0-70b100f8d473",
   "metadata": {},
   "outputs": [
    {
     "data": {
      "text/plain": [
       "[None,\n",
       " None,\n",
       " None,\n",
       " 19500.0,\n",
       " 20000.0,\n",
       " 21250.0,\n",
       " 21250.0,\n",
       " 22250.0,\n",
       " 22750.0,\n",
       " 21500.0,\n",
       " 23750.0,\n",
       " 24500.0]"
      ]
     },
     "execution_count": 61,
     "metadata": {},
     "output_type": "execute_result"
    }
   ],
   "source": [
    "moving_average_methods(needs, 4)"
   ]
  },
  {
   "cell_type": "markdown",
   "id": "0c2751eb-cc34-4d8a-a11e-25e8ab4ae4a1",
   "metadata": {},
   "source": [
    "# Exponential Smoothing Methods"
   ]
  },
  {
   "cell_type": "code",
   "execution_count": 143,
   "id": "ef58b48e-8317-4fbb-a66b-0b4f075a38a5",
   "metadata": {},
   "outputs": [],
   "source": [
    "def exponential_smoothing_methods(\n",
    "    data: Sequence[float], alpha: float = None\n",
    ")-> list[float]:\n",
    "\n",
    "    if alpha == None:\n",
    "        alpha = 2 / ( 1 + len(data))\n",
    "        print(f\"Set alpha: {alpha}\")\n",
    "\n",
    "    levels = []\n",
    "    \n",
    "    first_level = sum(data)/len(data)\n",
    "    levels.append(first_level)\n",
    "    \n",
    "    for i in range(len(data)):\n",
    "        level_value = alpha * data[i] + ( 1 - alpha ) * levels[i]\n",
    "        levels.append(level_value)\n",
    "\n",
    "    return levels\n",
    "    "
   ]
  },
  {
   "cell_type": "code",
   "execution_count": 145,
   "id": "c4d53038-bf7b-4058-9262-e1e4e9216222",
   "metadata": {},
   "outputs": [
    {
     "name": "stdout",
     "output_type": "stream",
     "text": [
      "Set alpha: 0.15384615384615385\n"
     ]
    },
    {
     "data": {
      "text/plain": [
       "[22083.333333333332,\n",
       " 19916.666666666664,\n",
       " 18852.5641025641,\n",
       " 19490.631163708087,\n",
       " 21722.841753906843,\n",
       " 19919.327637921175,\n",
       " 19624.04646285638,\n",
       " 20143.423930109242,\n",
       " 22890.589479323207,\n",
       " 21215.114174811944,\n",
       " 19951.250455610105,\n",
       " 21804.904231670087,\n",
       " 24757.995888336227]"
      ]
     },
     "execution_count": 145,
     "metadata": {},
     "output_type": "execute_result"
    }
   ],
   "source": [
    "exponential_smoothing_methods(needs)"
   ]
  },
  {
   "cell_type": "markdown",
   "id": "f79c6907-f77b-47dc-a357-46f2f92ec992",
   "metadata": {},
   "source": [
    "# Holt Model"
   ]
  },
  {
   "cell_type": "code",
   "execution_count": 217,
   "id": "42e2fb7a-91a8-45ca-a11a-950e067c00d3",
   "metadata": {},
   "outputs": [],
   "source": [
    "def betas(data):\n",
    "    Xbar = sum(range(len(data)+1))/len(data)\n",
    "    Ybar = sum(data)/len(data)\n",
    "\n",
    "    X_minus_Xbar = [x - Xbar for x in range(1, len(data)+1)]\n",
    "    Y_minus_Ybar = [y - Ybar for y in data]\n",
    "\n",
    "    X_minus_Xbar_square = [x**2 for x in X_minus_Xbar]\n",
    "    X_minus_Xbar_times_y_minus_Ybar = [x*y for x, y in zip(X_minus_Xbar, Y_minus_Ybar)]\n",
    "\n",
    "    b1 = sum(X_minus_Xbar_times_y_minus_Ybar)/ sum(X_minus_Xbar_square)\n",
    "\n",
    "    b0 = Ybar - b1 * Xbar\n",
    "    return b0, b1\n",
    "\n",
    "def holt_model(\n",
    "    data: Sequence[float], \n",
    "    alpha: float, \n",
    "    beta: float, \n",
    ")->list[float]:\n",
    "\n",
    "    level0, trend0 = betas(data)\n",
    "    forecast0 = level0 + trend0\n",
    "    \n",
    "    levels = []\n",
    "    trends = []\n",
    "    forecasts = []\n",
    "\n",
    "    levels.append(level0)\n",
    "    trends.append(trend0)\n",
    "    forecasts.append(forecast0)\n",
    "\n",
    "    for i in range(len(data)):\n",
    "        level_value = alpha*data[i] + (1-alpha)*(levels[i]+trends[i])\n",
    "        levels.append(level_value)\n",
    "        trend_value = beta*(levels[i+1]-levels[i])+(1-beta)*trends[i]\n",
    "        trends.append(trend_value)\n",
    "        forecast_value = level_value + trend_value\n",
    "        forecasts.append(forecast_value)\n",
    "\n",
    "    return forecasts\n",
    "    "
   ]
  },
  {
   "cell_type": "code",
   "execution_count": 219,
   "id": "a9b50156-4e24-4906-a515-1ffb03db575f",
   "metadata": {},
   "outputs": [
    {
     "data": {
      "text/plain": [
       "[13564.102564102563,\n",
       " 14445.361305361304,\n",
       " 15709.586946386948,\n",
       " 17993.198284382288,\n",
       " 21468.58452289045,\n",
       " 21967.060447089985,\n",
       " 23136.34756992777,\n",
       " 24685.97902908322,\n",
       " 27846.927761741463,\n",
       " 27774.84306589905,\n",
       " 27514.4699783229,\n",
       " 29269.844799937906,\n",
       " 31984.285243392653]"
      ]
     },
     "execution_count": 219,
     "metadata": {},
     "output_type": "execute_result"
    }
   ],
   "source": [
    "holt_model(needs, 0.1, 0.2)"
   ]
  },
  {
   "cell_type": "markdown",
   "id": "f384d316-e249-4268-89e0-e43e7572269b",
   "metadata": {},
   "source": [
    "# Winter Model"
   ]
  },
  {
   "cell_type": "code",
   "execution_count": 285,
   "id": "b00c4ca5-e0f6-476d-9919-65895278dd0e",
   "metadata": {},
   "outputs": [],
   "source": [
    "def winter_model(\n",
    "    data: Sequence[float],\n",
    "    P: int,\n",
    "    alpha: float, \n",
    "    beta: float, \n",
    "    gamma: float\n",
    ")->list[float]:\n",
    "    \n",
    "    level0, trend0 = betas(data)\n",
    "\n",
    "    # raise ValueError needs here\n",
    "    r = len(data)//P\n",
    "\n",
    "    # Preparation to calculate initial seasonal indexs\n",
    "    seasonal_indexs = []\n",
    "    for i in range(r):\n",
    "        blocks = needs[i*P:i*P+P]\n",
    "        for j in blocks:\n",
    "            seasonal_index = j / (sum(blocks)/len(blocks))\n",
    "            seasonal_indexs.append(seasonal_index)\n",
    "\n",
    "    # Calculate initial seasonal indexs 1 ~ P\n",
    "    for i in range(P):\n",
    "        initial_seasonal_index = sum(seasonal_indexs[i::4])/3\n",
    "        seasonal_indexs[i] = initial_seasonal_index\n",
    "    \n",
    "    # Calculate levels and Trends\n",
    "    levels = []\n",
    "    levels.append(level0)\n",
    "    trends = []\n",
    "    trends.append(trend0)\n",
    "\n",
    "    for i in range(len(data)):\n",
    "        level_value = alpha*(data[i]/seasonal_indexs[i])+(1-alpha)*(levels[i]+trends[i])\n",
    "        levels.append(level_value)\n",
    "        \n",
    "        trend_value = beta*(levels[i+1]-levels[i])+(1-beta)*trends[i]\n",
    "        trends.append(trend_value)\n",
    "\n",
    "    # Calculate Seasonal Indexs\n",
    "    seasonals = seasonal_indexs[:P]\n",
    "\n",
    "    for i in range(len(data)-P):\n",
    "        seasonal_value = gamma*(data[i]/levels[i+1])+(1-gamma)*seasonals[i]\n",
    "        seasonals.append(seasonal_value)\n",
    "\n",
    "    print(seasonals)\n",
    "\n",
    "    # Predict\n",
    "    forecasts = []\n",
    "\n",
    "    for i in range(len(data)):\n",
    "        forecast_value = (levels[i]+trends[i])*seasonals[i]\n",
    "        forecasts.append(forecast_value)\n",
    "\n",
    "    return forecasts\n",
    "        \n",
    "    \n",
    "\n",
    "    \n",
    "    "
   ]
  },
  {
   "cell_type": "code",
   "execution_count": 287,
   "id": "00119f39-d8f0-4627-b772-e6a38a08f826",
   "metadata": {},
   "outputs": [
    {
     "name": "stdout",
     "output_type": "stream",
     "text": [
      "[0.44983017695698274, 0.6687558918698565, 1.1731058312117701, 1.7083080999613907, 0.46292287035514973, 0.6854822867228285, 1.189022950884301, 1.717197094366313, 0.46514471334711593, 0.6979048385220659, 1.1668928985877436, 1.6961537286301545]\n"
     ]
    },
    {
     "data": {
      "text/plain": [
       "[6101.542656672919,\n",
       " 10262.176117674944,\n",
       " 20107.494637957683,\n",
       " 32229.842101184786,\n",
       " 9502.126081518018,\n",
       " 15237.72389181452,\n",
       " 28354.625003502842,\n",
       " 43575.447287654846,\n",
       " 12471.812944905443,\n",
       " 19735.839100777514,\n",
       " 34601.226235235226,\n",
       " 52464.98913061365]"
      ]
     },
     "execution_count": 287,
     "metadata": {},
     "output_type": "execute_result"
    }
   ],
   "source": [
    "winter_model(needs, 4, 0.05, 0.1, 0.1)"
   ]
  },
  {
   "cell_type": "code",
   "execution_count": null,
   "id": "701249bc-50ab-43f3-b3d2-c1695b9aeec0",
   "metadata": {},
   "outputs": [],
   "source": []
  }
 ],
 "metadata": {
  "kernelspec": {
   "display_name": "Python 3 (ipykernel)",
   "language": "python",
   "name": "python3"
  },
  "language_info": {
   "codemirror_mode": {
    "name": "ipython",
    "version": 3
   },
   "file_extension": ".py",
   "mimetype": "text/x-python",
   "name": "python",
   "nbconvert_exporter": "python",
   "pygments_lexer": "ipython3",
   "version": "3.12.4"
  }
 },
 "nbformat": 4,
 "nbformat_minor": 5
}
