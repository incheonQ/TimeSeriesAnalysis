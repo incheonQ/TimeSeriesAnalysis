{
 "cells": [
  {
   "cell_type": "markdown",
   "id": "54595bf0-1fd3-4474-a417-ae151eb466bb",
   "metadata": {},
   "source": [
    "# Classical Decomposition\n",
    "**Reference: https://otexts.com/fpp2/classical-decomposition.html**\n",
    "### 1. Additive Decomposition\n",
    "\n",
    "### 2. Multiplicative Decomposition\n",
    "\n",
    "We assume that the seasonal component is constant from year to year.\n"
   ]
  },
  {
   "cell_type": "markdown",
   "id": "02fcf4e5-f19f-440f-b77f-406b025567ae",
   "metadata": {},
   "source": [
    "### Setup"
   ]
  },
  {
   "cell_type": "code",
   "execution_count": 156,
   "id": "dbc58038-1f03-4489-a70a-04f8d01aac3b",
   "metadata": {},
   "outputs": [],
   "source": [
    "import pandas as pd\n",
    "import numpy as np\n",
    "import matplotlib.pyplot as plt\n",
    "from collections.abc import Sequence\n",
    "from timeseries import moving_average_methods\n",
    "\n",
    "def draw_plots(*args):\n",
    "\n",
    "    num = len(args)\n",
    "    \n",
    "    fig, axs = plt.subplots(num,1,constrained_layout=True)\n",
    "    fig = plt.figure(constrained_layout = True)\n",
    "\n",
    "    for i in range(num):\n",
    "        axs[i].plot(args[i])\n",
    "    \n",
    "    plt.show()\n",
    "\n",
    "    return None"
   ]
  },
  {
   "cell_type": "markdown",
   "id": "ffe21b0b-86d7-48f4-a79d-bea71f17a73a",
   "metadata": {},
   "source": [
    "### Preparation of Dataset\n",
    "\n",
    "***Used Dataset : https://fred.stlouisfed.org/series/PCU3359133591***"
   ]
  },
  {
   "cell_type": "code",
   "execution_count": 72,
   "id": "98d8ef11-45a1-4c83-b3e2-4685b8303e42",
   "metadata": {},
   "outputs": [],
   "source": [
    "df = pd.read_csv(\"./datasets/PCU3359133591.csv\")"
   ]
  },
  {
   "cell_type": "code",
   "execution_count": 74,
   "id": "99b750fc-ee08-4b77-946a-6ec7b58adb01",
   "metadata": {},
   "outputs": [
    {
     "name": "stdout",
     "output_type": "stream",
     "text": [
      "<class 'pandas.core.frame.DataFrame'>\n",
      "RangeIndex: 248 entries, 0 to 247\n",
      "Data columns (total 2 columns):\n",
      " #   Column         Non-Null Count  Dtype  \n",
      "---  ------         --------------  -----  \n",
      " 0   DATE           248 non-null    object \n",
      " 1   PCU3359133591  248 non-null    float64\n",
      "dtypes: float64(1), object(1)\n",
      "memory usage: 4.0+ KB\n"
     ]
    }
   ],
   "source": [
    "df.info()"
   ]
  },
  {
   "cell_type": "code",
   "execution_count": 76,
   "id": "639b7170-4914-45f8-b02f-bfd8ea1409c3",
   "metadata": {},
   "outputs": [],
   "source": [
    "df.columns = ['Date', 'Price']"
   ]
  },
  {
   "cell_type": "code",
   "execution_count": 78,
   "id": "f4f3c13f-25cf-43aa-a717-d89ca86df078",
   "metadata": {},
   "outputs": [
    {
     "data": {
      "text/plain": [
       "('2003-12-01', '2024-07-01')"
      ]
     },
     "execution_count": 78,
     "metadata": {},
     "output_type": "execute_result"
    }
   ],
   "source": [
    "df['Date'][0], df['Date'][len(df)-1]"
   ]
  },
  {
   "cell_type": "code",
   "execution_count": 84,
   "id": "c4fe7644-e0a6-4ae6-a17e-c2562c14a1da",
   "metadata": {},
   "outputs": [],
   "source": [
    "df['Date'] = pd.to_datetime(df['Date'])"
   ]
  },
  {
   "cell_type": "code",
   "execution_count": null,
   "id": "2c8fefda-f0f1-4a6f-b36e-c44dfbbda02a",
   "metadata": {},
   "outputs": [],
   "source": []
  },
  {
   "cell_type": "code",
   "execution_count": 104,
   "id": "dd4383df-ba8a-480d-8d73-4a23364a3480",
   "metadata": {},
   "outputs": [
    {
     "data": {
      "text/plain": [
       "0      4\n",
       "1      1\n",
       "2      1\n",
       "3      1\n",
       "4      2\n",
       "      ..\n",
       "243    1\n",
       "244    2\n",
       "245    2\n",
       "246    2\n",
       "247    3\n",
       "Name: Date, Length: 248, dtype: int64"
      ]
     },
     "execution_count": 104,
     "metadata": {},
     "output_type": "execute_result"
    }
   ],
   "source": [
    "df['Date'].map(lambda x : x.day)\n",
    "df['Date'].map(lambda x : x.month)\n",
    "df['Date'].map(lambda x : x.quarter)"
   ]
  },
  {
   "cell_type": "markdown",
   "id": "16a6571d-eb5c-4253-8ee8-7ee67d636a3e",
   "metadata": {},
   "source": [
    "### Additive Decomposition"
   ]
  },
  {
   "cell_type": "code",
   "execution_count": 178,
   "id": "1617bf6a-f445-4075-9825-7705518dade8",
   "metadata": {},
   "outputs": [],
   "source": [
    "def classical_decompostion(\n",
    "    timeseries: pd.core.frame.DataFrame,\n",
    "    form: str ='additive',\n",
    "    seasonal_period: str ='m',\n",
    "    fig: bool = 'False',\n",
    ")->tuple[Sequence]:\n",
    "    '''\n",
    "    The parameter 'timeseries' must have 2 columns: 'Date', 'Price', \n",
    "    and The column 'Date' should consist of pandas.Timestamp objects.\n",
    "\n",
    "    There are 2 options for the parameter 'form': 'additive' and 'multiplicative'.\n",
    "    There are 7 options for the parameter 'unit': 'quarterly', 'monthly', 'daily', 'q', 'm', 'd', and int value\n",
    "    '''\n",
    "    # Setup\n",
    "    import numpy as np\n",
    "    \n",
    "    # Seasonal Period\n",
    "    if seasonal_period in ['quarterly', 'q']:\n",
    "        m = 4 # for quarterly data\n",
    "        interest_period = timeseries['Date'].map(lambda x : x.quarter)\n",
    "        \n",
    "    elif seasonal_period in ['monthly', 'm']:\n",
    "        m = 12 # for monthly data\n",
    "        interest_period = timeseries['Date'].map(lambda x : x.month)\n",
    "        \n",
    "    elif seasonal_period in ['daily', 'd']:\n",
    "        m = 7 # for daily data with a weekly pattern\n",
    "        interest_period = timeseries['Date'].map(lambda x : x.day_of_week)\n",
    "        \n",
    "    elif type(seasonal_period) == int:\n",
    "        raise Exception(\"not yet\")\n",
    "        \n",
    "    else:\n",
    "        raise ValueError(\"There are 3 options for the parameter 'unit': 'quarterly', 'monthly', 'daily', 'q', 'm', 'd'\")\n",
    "\n",
    "    # Step1: \n",
    "    '''\n",
    "    Compute the trend-cycle component T\n",
    "    '''\n",
    "    y = timeseries['Price']\n",
    "\n",
    "    if m % 2 == 0:\n",
    "        window_size = 2*m\n",
    "    else:\n",
    "        window_size = m\n",
    "        \n",
    "    T = np.array(moving_average_methods(y, window_size))\n",
    "\n",
    "\n",
    "    # Step2: \n",
    "    '''\n",
    "    Calculate the detrended series y-T\n",
    "    '''\n",
    "    detrended_series = y - T\n",
    "\n",
    "    # Step3: \n",
    "    '''\n",
    "    To estimate the seasonal component for each season, \n",
    "    simply average the detrended values for that season.\n",
    "    '''\n",
    "    S_list = []\n",
    "    \n",
    "    for i in range(1, m+1):\n",
    "        subset = timeseries.loc[interest_period==i, 'Price']\n",
    "        seasonal_component = sum(subset)/len(subset)\n",
    "        S_list.append(seasonal_component)\n",
    "\n",
    "    S = [S_list[x-1] for x in interest_period]\n",
    "\n",
    "    # Step4: \n",
    "    '''\n",
    "    The remainder component is calculated by subtracting the estimated seasonal and trend-cycle components\n",
    "    R = y - T - S\n",
    "    R = detrended_series - S\n",
    "    '''\n",
    "    R = detrended_series - S\n",
    "\n",
    "    # Draw plots of data, trend, seasonal index, and remainder\n",
    "    if fig == True:\n",
    "        draw_plots(y, T, S, R)\n",
    "        \n",
    "    return y, T, S, R\n",
    "     "
   ]
  },
  {
   "cell_type": "code",
   "execution_count": 182,
   "id": "26c988bd-0b34-4369-a8e1-6039aaeb05b9",
   "metadata": {},
   "outputs": [
    {
     "ename": "Exception",
     "evalue": "not yet",
     "output_type": "error",
     "traceback": [
      "\u001b[1;31m---------------------------------------------------------------------------\u001b[0m",
      "\u001b[1;31mException\u001b[0m                                 Traceback (most recent call last)",
      "Cell \u001b[1;32mIn[182], line 1\u001b[0m\n\u001b[1;32m----> 1\u001b[0m y, T, S, R \u001b[38;5;241m=\u001b[39m classical_decompostion(df, fig\u001b[38;5;241m=\u001b[39m\u001b[38;5;28;01mTrue\u001b[39;00m, seasonal_period\u001b[38;5;241m=\u001b[39m\u001b[38;5;241m7\u001b[39m )\n",
      "Cell \u001b[1;32mIn[178], line 31\u001b[0m, in \u001b[0;36mclassical_decompostion\u001b[1;34m(timeseries, form, seasonal_period, fig)\u001b[0m\n\u001b[0;32m     28\u001b[0m     interest_period \u001b[38;5;241m=\u001b[39m timeseries[\u001b[38;5;124m'\u001b[39m\u001b[38;5;124mDate\u001b[39m\u001b[38;5;124m'\u001b[39m]\u001b[38;5;241m.\u001b[39mmap(\u001b[38;5;28;01mlambda\u001b[39;00m x : x\u001b[38;5;241m.\u001b[39mday_of_week)\n\u001b[0;32m     30\u001b[0m \u001b[38;5;28;01melif\u001b[39;00m \u001b[38;5;28mtype\u001b[39m(seasonal_period) \u001b[38;5;241m==\u001b[39m \u001b[38;5;28mint\u001b[39m:\n\u001b[1;32m---> 31\u001b[0m     \u001b[38;5;28;01mraise\u001b[39;00m \u001b[38;5;167;01mException\u001b[39;00m(\u001b[38;5;124m\"\u001b[39m\u001b[38;5;124mnot yet\u001b[39m\u001b[38;5;124m\"\u001b[39m)\n\u001b[0;32m     33\u001b[0m \u001b[38;5;28;01melse\u001b[39;00m:\n\u001b[0;32m     34\u001b[0m     \u001b[38;5;28;01mraise\u001b[39;00m \u001b[38;5;167;01mValueError\u001b[39;00m(\u001b[38;5;124m\"\u001b[39m\u001b[38;5;124mThere are 3 options for the parameter \u001b[39m\u001b[38;5;124m'\u001b[39m\u001b[38;5;124munit\u001b[39m\u001b[38;5;124m'\u001b[39m\u001b[38;5;124m: \u001b[39m\u001b[38;5;124m'\u001b[39m\u001b[38;5;124mquarterly\u001b[39m\u001b[38;5;124m'\u001b[39m\u001b[38;5;124m, \u001b[39m\u001b[38;5;124m'\u001b[39m\u001b[38;5;124mmonthly\u001b[39m\u001b[38;5;124m'\u001b[39m\u001b[38;5;124m, \u001b[39m\u001b[38;5;124m'\u001b[39m\u001b[38;5;124mdaily\u001b[39m\u001b[38;5;124m'\u001b[39m\u001b[38;5;124m, \u001b[39m\u001b[38;5;124m'\u001b[39m\u001b[38;5;124mq\u001b[39m\u001b[38;5;124m'\u001b[39m\u001b[38;5;124m, \u001b[39m\u001b[38;5;124m'\u001b[39m\u001b[38;5;124mm\u001b[39m\u001b[38;5;124m'\u001b[39m\u001b[38;5;124m, \u001b[39m\u001b[38;5;124m'\u001b[39m\u001b[38;5;124md\u001b[39m\u001b[38;5;124m'\u001b[39m\u001b[38;5;124m\"\u001b[39m)\n",
      "\u001b[1;31mException\u001b[0m: not yet"
     ]
    }
   ],
   "source": [
    "y, T, S, R = classical_decompostion(df, fig=True, seasonal_period=7 )"
   ]
  },
  {
   "cell_type": "code",
   "execution_count": null,
   "id": "5bdc65d7-0d30-499d-ad57-398164c700cb",
   "metadata": {},
   "outputs": [],
   "source": []
  }
 ],
 "metadata": {
  "kernelspec": {
   "display_name": "Python 3 (ipykernel)",
   "language": "python",
   "name": "python3"
  },
  "language_info": {
   "codemirror_mode": {
    "name": "ipython",
    "version": 3
   },
   "file_extension": ".py",
   "mimetype": "text/x-python",
   "name": "python",
   "nbconvert_exporter": "python",
   "pygments_lexer": "ipython3",
   "version": "3.12.4"
  }
 },
 "nbformat": 4,
 "nbformat_minor": 5
}
